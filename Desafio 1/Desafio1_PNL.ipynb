{
  "cells": [
    {
      "cell_type": "markdown",
      "metadata": {
        "id": "Tl42lhkBy_p0"
      },
      "source": [
        "# Universidad de Buenos Aires\n",
        "# Procesamiento de Lenguaje Natural - Desafio: 1\n",
        "# Alumno: Matias Werbin"
      ]
    },
    {
      "cell_type": "markdown",
      "metadata": {
        "id": "RPp7SDSR0lFj"
      },
      "source": [
        "**1**. Vectorizar documentos. Tomar 5 documentos al azar y medir similaridad con el resto de los documentos.\n",
        "Estudiar los 5 documentos más similares de cada uno analizar si tiene sentido\n",
        "la similaridad según el contenido del texto y la etiqueta de clasificación.\n",
        "\n",
        "**2**. Entrenar modelos de clasificación Naïve Bayes para maximizar el desempeño de clasificación\n",
        "(f1-score macro) en el conjunto de datos de test. Considerar cambiar parámteros\n",
        "de instanciación del vectorizador y los modelos y probar modelos de Naïve Bayes Multinomial\n",
        "y ComplementNB.\n",
        "\n",
        "**3**. Transponer la matriz documento-término. De esa manera se obtiene una matriz\n",
        "término-documento que puede ser interpretada como una colección de vectorización de palabras.\n",
        "Estudiar ahora similaridad entre palabras tomando 5 palabras y estudiando sus 5 más similares."
      ]
    },
    {
      "cell_type": "code",
      "execution_count": 3,
      "metadata": {
        "id": "pzV0B9dry_GG"
      },
      "outputs": [],
      "source": [
        "# Importacion de librerias\n",
        "from sklearn.feature_extraction.text import CountVectorizer, TfidfVectorizer\n",
        "from sklearn.metrics.pairwise import cosine_similarity\n",
        "from sklearn.naive_bayes import MultinomialNB, ComplementNB\n",
        "from sklearn.metrics import f1_score, accuracy_score\n",
        "import numpy as np\n",
        "\n",
        "# Importacion de fetch_20newsgroups para la descarga del dataset\n",
        "from sklearn.datasets import fetch_20newsgroups\n"
      ]
    },
    {
      "cell_type": "code",
      "execution_count": 4,
      "metadata": {
        "id": "PyQISNdM1vuU"
      },
      "outputs": [],
      "source": [
        "# Inspeccionamos fetch_20newsgroups para ver parametros que admite\n",
        "#fetch_20newsgroups?"
      ]
    },
    {
      "cell_type": "code",
      "execution_count": 5,
      "metadata": {
        "id": "1q-7ev3q1bdw"
      },
      "outputs": [],
      "source": [
        "# Carga de datos de train y test\n",
        "\n",
        "X_train, y_train = fetch_20newsgroups(subset='train', remove=('headers', 'footers', 'quotes'),return_X_y=True)\n",
        "X_test, y_test = fetch_20newsgroups(subset='test', remove=('headers', 'footers', 'quotes'),return_X_y=True)"
      ]
    },
    {
      "cell_type": "code",
      "execution_count": 6,
      "metadata": {
        "colab": {
          "base_uri": "https://localhost:8080/"
        },
        "id": "Z9nfvQiI3BnQ",
        "outputId": "7c0d0907-cb47-47d6-c683-14e52c7750c3"
      },
      "outputs": [
        {
          "name": "stdout",
          "output_type": "stream",
          "text": [
            "La longuitud de X_train es: 11314\n",
            "La longuitud de X_test es: 7532\n",
            "La longuitud de y_train es:11314\n",
            "La longuitud de y_test es: 7532\n"
          ]
        }
      ],
      "source": [
        "print(f\"La longuitud de X_train es: {len(X_train)}\")\n",
        "print(f\"La longuitud de X_test es: {len(X_test)}\")\n",
        "print(f\"La longuitud de y_train es:{len(y_train)}\")\n",
        "print(f\"La longuitud de y_test es: {len(y_test)}\")"
      ]
    },
    {
      "cell_type": "code",
      "execution_count": 7,
      "metadata": {
        "colab": {
          "base_uri": "https://localhost:8080/",
          "height": 145
        },
        "id": "fOC1pS_O7Ags",
        "outputId": "6c150eb6-01ad-4db0-d316-a6e5ec07f82d"
      },
      "outputs": [
        {
          "data": {
            "text/plain": [
              "'\\n)>>   \"The Catalog of Personal Computing Tools for Engineers and Scien-\\n)>>   tists\" lists hardware cards and application software packages for \\n)>>   PC/XT/AT/PS/2 class machines.  Focus is on engineering and scien-\\n)>>   tific applications of PCs, such as data acquisition/control, \\n)>>   design automation, and data analysis and presentation.  \\n\\n)>>   If you would like a free copy, reply with your (U. S. Postal) \\n)>>   mailing address.\\n\\nI have a copy of this catalog in front of me as I write this.\\nIt does have tons of qool stuff in it. \\nMy impression is that they try not to send it out to \"browsers\". It\\nappears that if your not a buyer or an engineer they do not want to\\nwaste a catalog on you. When you get a catalog there\\'s a \"VIP Code\" you\\nhave to give them \"to ensure your continued subscription.\".\\nAnyway, if you want to get in touch with them, the company is\\n\\nPersonal Computing Tools\\n550 Division Street\\nCampbell, CA 95008\\n(408) 378-8400 \\n(They also have fax #\\'s and toll free #\\'s for ordering and tech support)'"
            ]
          },
          "execution_count": 7,
          "metadata": {},
          "output_type": "execute_result"
        }
      ],
      "source": [
        "# Revisamos un registro de train (documento), por ejemplo,el correspondiente al del índice 22\n",
        "\n",
        "X_train[22]"
      ]
    },
    {
      "cell_type": "code",
      "execution_count": 8,
      "metadata": {
        "colab": {
          "base_uri": "https://localhost:8080/"
        },
        "id": "G7xbT3iT7Z4k",
        "outputId": "ffc9de88-d791-4b04-c404-c1ce0fa6b08b"
      },
      "outputs": [
        {
          "data": {
            "text/plain": [
              "6"
            ]
          },
          "execution_count": 8,
          "metadata": {},
          "output_type": "execute_result"
        }
      ],
      "source": [
        "# Revisamos clase del documento 22\n",
        "\n",
        "y_train[22] # el resultado nos devuelve un valor numerico que se asocia a una clase"
      ]
    },
    {
      "cell_type": "code",
      "execution_count": 9,
      "metadata": {
        "colab": {
          "base_uri": "https://localhost:8080/"
        },
        "id": "puj8D0Kh78RT",
        "outputId": "0409f28b-fcb3-4eb7-af0f-8293899326cd"
      },
      "outputs": [
        {
          "name": "stdout",
          "output_type": "stream",
          "text": [
            "Categorías presentes en train\n",
            "\n",
            "Categoría 0: alt.atheism\n",
            "Categoría 1: comp.graphics\n",
            "Categoría 2: comp.os.ms-windows.misc\n",
            "Categoría 3: comp.sys.ibm.pc.hardware\n",
            "Categoría 4: comp.sys.mac.hardware\n",
            "Categoría 5: comp.windows.x\n",
            "Categoría 6: misc.forsale\n",
            "Categoría 7: rec.autos\n",
            "Categoría 8: rec.motorcycles\n",
            "Categoría 9: rec.sport.baseball\n",
            "Categoría 10: rec.sport.hockey\n",
            "Categoría 11: sci.crypt\n",
            "Categoría 12: sci.electronics\n",
            "Categoría 13: sci.med\n",
            "Categoría 14: sci.space\n",
            "Categoría 15: soc.religion.christian\n",
            "Categoría 16: talk.politics.guns\n",
            "Categoría 17: talk.politics.mideast\n",
            "Categoría 18: talk.politics.misc\n",
            "Categoría 19: talk.religion.misc\n",
            "\n",
            "Categorias presentes en test\n",
            "\n",
            "Categoría 0: alt.atheism\n",
            "Categoría 1: comp.graphics\n",
            "Categoría 2: comp.os.ms-windows.misc\n",
            "Categoría 3: comp.sys.ibm.pc.hardware\n",
            "Categoría 4: comp.sys.mac.hardware\n",
            "Categoría 5: comp.windows.x\n",
            "Categoría 6: misc.forsale\n",
            "Categoría 7: rec.autos\n",
            "Categoría 8: rec.motorcycles\n",
            "Categoría 9: rec.sport.baseball\n",
            "Categoría 10: rec.sport.hockey\n",
            "Categoría 11: sci.crypt\n",
            "Categoría 12: sci.electronics\n",
            "Categoría 13: sci.med\n",
            "Categoría 14: sci.space\n",
            "Categoría 15: soc.religion.christian\n",
            "Categoría 16: talk.politics.guns\n",
            "Categoría 17: talk.politics.mideast\n",
            "Categoría 18: talk.politics.misc\n",
            "Categoría 19: talk.religion.misc\n"
          ]
        }
      ],
      "source": [
        "# Obtener el nombre de las categorías\n",
        "newsgroups_train = fetch_20newsgroups(subset='train', remove=('headers', 'footers', 'quotes'))\n",
        "newsgroups_test = fetch_20newsgroups(subset='test', remove=('headers', 'footers', 'quotes'))\n",
        "category_names_train = newsgroups_train.target_names\n",
        "category_names_test = newsgroups_test.target_names\n",
        "\n",
        "print('Categorías presentes en train')\n",
        "print(\"\")\n",
        "for i, category in enumerate(category_names_train):\n",
        "    print(f\"Categoría {i}: {category}\")\n",
        "print(\"\")\n",
        "\n",
        "print('Categorias presentes en test')\n",
        "print(\"\")\n",
        "for i, category in enumerate(category_names_test):\n",
        "    print(f\"Categoría {i}: {category}\")"
      ]
    },
    {
      "cell_type": "code",
      "execution_count": 10,
      "metadata": {
        "colab": {
          "base_uri": "https://localhost:8080/"
        },
        "id": "Y9O8jA01E_mu",
        "outputId": "b0928ca9-8f37-4f47-f56a-b22a81e6c9f0"
      },
      "outputs": [
        {
          "name": "stdout",
          "output_type": "stream",
          "text": [
            "{0: 'alt.atheism', 1: 'comp.graphics', 2: 'comp.os.ms-windows.misc', 3: 'comp.sys.ibm.pc.hardware', 4: 'comp.sys.mac.hardware', 5: 'comp.windows.x', 6: 'misc.forsale', 7: 'rec.autos', 8: 'rec.motorcycles', 9: 'rec.sport.baseball', 10: 'rec.sport.hockey', 11: 'sci.crypt', 12: 'sci.electronics', 13: 'sci.med', 14: 'sci.space', 15: 'soc.religion.christian', 16: 'talk.politics.guns', 17: 'talk.politics.mideast', 18: 'talk.politics.misc', 19: 'talk.religion.misc'}\n"
          ]
        }
      ],
      "source": [
        "# Diccionario para obtener categoria segun clase numerica\n",
        "idx2class = {v: k for v, k in enumerate(category_names_train)}\n",
        "\n",
        "print(idx2class)"
      ]
    },
    {
      "cell_type": "code",
      "execution_count": 11,
      "metadata": {
        "colab": {
          "base_uri": "https://localhost:8080/",
          "height": 1000
        },
        "id": "Qfbh8TRz-uXT",
        "outputId": "6bcd881a-fd14-4f55-89ec-68ac5c583009"
      },
      "outputs": [
        {
          "name": "stdout",
          "output_type": "stream",
          "text": [
            "Cantidad de registros por clase en y_train:\n",
            "rec.autos: 594\n",
            "comp.sys.mac.hardware: 578\n",
            "comp.graphics: 584\n",
            "sci.space: 593\n",
            "talk.politics.guns: 546\n",
            "sci.med: 594\n",
            "comp.sys.ibm.pc.hardware: 590\n",
            "comp.os.ms-windows.misc: 591\n",
            "rec.motorcycles: 598\n",
            "talk.religion.misc: 377\n",
            "misc.forsale: 585\n",
            "alt.atheism: 480\n",
            "sci.electronics: 591\n",
            "comp.windows.x: 593\n",
            "rec.sport.hockey: 600\n",
            "rec.sport.baseball: 597\n",
            "soc.religion.christian: 599\n",
            "talk.politics.mideast: 564\n",
            "talk.politics.misc: 465\n",
            "sci.crypt: 595\n",
            "\n",
            "Cantidad de registros por clase en y_test:\n",
            "rec.autos: 396\n",
            "comp.windows.x: 395\n",
            "alt.atheism: 319\n",
            "talk.politics.mideast: 376\n",
            "talk.religion.misc: 251\n",
            "sci.med: 396\n",
            "soc.religion.christian: 398\n",
            "comp.graphics: 389\n",
            "comp.os.ms-windows.misc: 394\n",
            "rec.motorcycles: 398\n",
            "comp.sys.mac.hardware: 385\n",
            "misc.forsale: 390\n",
            "talk.politics.guns: 364\n",
            "sci.space: 394\n",
            "comp.sys.ibm.pc.hardware: 392\n",
            "sci.crypt: 396\n",
            "rec.sport.baseball: 397\n",
            "rec.sport.hockey: 399\n",
            "talk.politics.misc: 310\n",
            "sci.electronics: 393\n"
          ]
        },
        {
          "data": {
            "text/plain": [
              "Text(0, 0.5, 'Cantidad de registros')"
            ]
          },
          "execution_count": 11,
          "metadata": {},
          "output_type": "execute_result"
        },
        {
          "data": {
            "image/png": "[encoded data removed]",
            "text/plain": [
              "<Figure size 1800x600 with 2 Axes>"
            ]
          },
          "metadata": {},
          "output_type": "display_data"
        }
      ],
      "source": [
        "from collections import Counter\n",
        "import matplotlib.pyplot as plt\n",
        "\n",
        "# Contar la cantidad de registros por clase en y_train e y_test\n",
        "train_counts = Counter(y_train)\n",
        "test_counts = Counter(y_test)\n",
        "\n",
        "# Imprimimos la cantidad de registros por clase en y_train\n",
        "print(\"Cantidad de registros por clase en y_train:\")\n",
        "for category_index, count in train_counts.items():\n",
        "    print(f\"{category_names_train[category_index]}: {count}\")\n",
        "\n",
        "# Imprimimos la cantidad de registros por clase en y_test\n",
        "print(\"\\nCantidad de registros por clase en y_test:\")\n",
        "for category_index, count in test_counts.items():\n",
        "    print(f\"{category_names_test[category_index]}: {count}\")\n",
        "\n",
        "fig, ax = plt.subplots(1, 2, figsize=(18, 6))\n",
        "\n",
        "# Plot for y_train\n",
        "ax[0].bar(train_counts.keys(), train_counts.values(), color='blue')\n",
        "ax[0].set_title('Distribución de clases en y_train')\n",
        "ax[0].set_xticks(range(len(category_names_train)))\n",
        "ax[0].set_xticklabels(category_names_train, rotation=90)\n",
        "ax[0].set_xlabel('Clases')\n",
        "ax[0].set_ylabel('Cantidad de registros')\n",
        "\n",
        "# Plot for y_test\n",
        "ax[1].bar(test_counts.keys(), test_counts.values(), color='green')\n",
        "ax[1].set_title('Distribución de clases en y_test')\n",
        "ax[1].set_xticks(range(len(category_names_test)))\n",
        "ax[1].set_xticklabels(category_names_test, rotation=90)\n",
        "ax[1].set_xlabel('Clases')\n",
        "ax[1].set_ylabel('Cantidad de registros')\n"
      ]
    },
    {
      "cell_type": "markdown",
      "metadata": {
        "id": "XZgZE8Jz_jm2"
      },
      "source": [
        "Podemos observar que las clases tanto en el conjunto de train como test, se encuentran bastante balanceadas.\n",
        "\n",
        "Procedmos a vectorizar documentos mediante estrategia TfidVectorizer()"
      ]
    },
    {
      "cell_type": "code",
      "execution_count": 12,
      "metadata": {
        "id": "yiY9_fNH58El"
      },
      "outputs": [],
      "source": [
        "# Inspeccionamos TfidfVectorizer() para ver parametros que toma por defecto\n",
        "\n",
        "# help(TfidfVectorizer())"
      ]
    },
    {
      "cell_type": "code",
      "execution_count": 13,
      "metadata": {
        "id": "pUxRIitk6wwU"
      },
      "outputs": [],
      "source": [
        "# Incializamos TfidVectorizer con parametros default\n",
        "tfidfvect = TfidfVectorizer()"
      ]
    },
    {
      "cell_type": "code",
      "execution_count": 14,
      "metadata": {
        "id": "V349llG4B0NO"
      },
      "outputs": [],
      "source": [
        "# Vectorizamos\n",
        "X_train_vec = tfidfvect.fit_transform(X_train)"
      ]
    },
    {
      "cell_type": "code",
      "execution_count": 15,
      "metadata": {
        "colab": {
          "base_uri": "https://localhost:8080/"
        },
        "id": "aFjuIekTCY1A",
        "outputId": "fe9ba3a4-6daa-446d-fd7f-49ce00b04549"
      },
      "outputs": [
        {
          "name": "stdout",
          "output_type": "stream",
          "text": [
            "<class 'scipy.sparse._csr.csr_matrix'>\n",
            "shape: (11314, 101631)\n",
            "cantidad de documentos: 11314\n",
            "tamaño del vocabulario (dimensionalidad de los vectores): 101631\n"
          ]
        }
      ],
      "source": [
        "print(type(X_train_vec))\n",
        "print(f'shape: {X_train_vec.shape}')\n",
        "print(f'cantidad de documentos: {X_train_vec.shape[0]}')\n",
        "print(f'tamaño del vocabulario (dimensionalidad de los vectores): {X_train_vec.shape[1]}')"
      ]
    },
    {
      "cell_type": "code",
      "execution_count": 16,
      "metadata": {
        "colab": {
          "base_uri": "https://localhost:8080/"
        },
        "id": "JSdVSdG7CmO5",
        "outputId": "52cd4af6-91d0-4779-c14b-09fb41631c6e"
      },
      "outputs": [
        {
          "name": "stdout",
          "output_type": "stream",
          "text": [
            "I am looking for a program I can insert into some code that will allow the title bar to be changed on a window dynamicly.  If one already is out there, I would appreciate a location so I don't have to create this from scratch.\n",
            "\n",
            "La categoría correspondiente es: 5 = comp.windows.x\n",
            "\n"
          ]
        }
      ],
      "source": [
        "import random\n",
        "\n",
        "# Tomaremos 5 documentos al azar\n",
        "\n",
        "random.seed(22)\n",
        "\n",
        "# Seleccionamos 5 índices al azar\n",
        "random_indices = random.sample(range(X_train_vec.shape[0]), 5)\n",
        "\n",
        "# Extraemos los documentos correspondientes a estos índices\n",
        "random_documents = X_train_vec[random_indices]\n",
        "\n",
        "# Visualicemos el primer documento elegido y su categoria\n",
        "\n",
        "print(X_train[random_indices[0]])\n",
        "print(\"\")\n",
        "print(f\"La categoría correspondiente es: {y_train[random_indices[0]]} = {idx2class[y_train[random_indices[0]]]}\\n\")\n",
        "\n"
      ]
    },
    {
      "cell_type": "code",
      "execution_count": 17,
      "metadata": {
        "colab": {
          "base_uri": "https://localhost:8080/"
        },
        "id": "w5t2CvuUEr1n",
        "outputId": "57084a99-7dde-4ef8-a1bf-325b3a6bf1ce"
      },
      "outputs": [
        {
          "name": "stdout",
          "output_type": "stream",
          "text": [
            "Índice de documento: 2299\n",
            "\n",
            "Contenido del documento:\n",
            "\n",
            "I am looking for a program I can insert into some code that will allow the title bar to be changed on a window dynamicly.  If one already is out there, I would appreciate a location so I don't have to create this from scratch.\n",
            "\n",
            "La categoría correspondiente es: 5 = comp.windows.x\n",
            "\n",
            "Los 5 documento mas simlares son:\n",
            "\n",
            "Índice del documento: 4377, Valor de similitud coseno: 0.2515493090120143 y la categoría correspondiente es: 5 = comp.windows.x\n",
            "\n",
            "Índice del documento: 7933, Valor de similitud coseno: 0.2169712742633893 y la categoría correspondiente es: 5 = comp.windows.x\n",
            "\n",
            "Índice del documento: 5525, Valor de similitud coseno: 0.21265787965643643 y la categoría correspondiente es: 5 = comp.windows.x\n",
            "\n",
            "Índice del documento: 4614, Valor de similitud coseno: 0.2106451954966976 y la categoría correspondiente es: 5 = comp.windows.x\n",
            "\n",
            "Índice del documento: 10112, Valor de similitud coseno: 0.2083995142178222 y la categoría correspondiente es: 2 = comp.os.ms-windows.misc\n",
            "\n"
          ]
        }
      ],
      "source": [
        "# Similitud coseno para el primer documento tomado al azar y el resto\n",
        "idx=random_indices[0]\n",
        "print(f\"Índice de documento: {idx}\")\n",
        "print(\"\")\n",
        "print(\"Contenido del documento:\")\n",
        "print(\"\")\n",
        "print(X_train[random_indices[0]])\n",
        "print(\"\")\n",
        "print(f\"La categoría correspondiente es: {y_train[random_indices[0]]} = {idx2class[y_train[random_indices[0]]]}\\n\")\n",
        "\n",
        "# Similitud coseno con todos los documentos de train\n",
        "cossim = cosine_similarity(X_train_vec[idx], X_train_vec)[0]\n",
        "\n",
        "# 5 documentos más similares\n",
        "values_cossim=np.sort(cossim)[::-1] [1:6]\n",
        "doc_cossim=np.argsort(cossim)[::-1] [1:6]\n",
        "\n",
        "print(\"Los 5 documento mas simlares son:\")\n",
        "print(\"\")\n",
        "for doc_idx, sim_value in zip(doc_cossim, values_cossim):\n",
        "    print(f\"Índice del documento: {doc_idx}, Valor de similitud coseno: {sim_value} y la categoría correspondiente es: {y_train[doc_idx]} = {idx2class[y_train[doc_idx]]}\\n\")\n",
        "\n"
      ]
    },
    {
      "cell_type": "code",
      "execution_count": 18,
      "metadata": {
        "colab": {
          "base_uri": "https://localhost:8080/"
        },
        "id": "SKNSz16wPyVE",
        "outputId": "7b4b26fe-efee-4eff-b5ef-18dc5d371501"
      },
      "outputs": [
        {
          "name": "stdout",
          "output_type": "stream",
          "text": [
            "Indice de documento: 3975\n",
            "\n",
            "Contenido del documento:\n",
            "\n",
            "\n",
            "\n",
            "Darius> Let me suggest this.  Maybe those who believe in the eternal\n",
            "Darius> hell theory should provide all the biblical evidence they can\n",
            "Darius> find for it.  Stay away from human theories, and only take\n",
            "Darius> into account references in the bible.\n",
            "\n",
            "Like most topics, we've been through this one before, but here is\n",
            "a good start:  Matthew 25:46:\n",
            "\n",
            "\"Then they will go away to eternal punishment, but the righteous\n",
            "to eternal life.\"\n",
            "\n",
            "I may post more on this subject when I have more time.  In any\n",
            "case, it is clear that the fate of the damned is most unpleasant,\n",
            "and to be avoided.\n",
            "\n",
            "David Wagner\t\t\t\"Sola Scriptura!\"\n",
            "a confessional Lutheran\n",
            "\n",
            "La categoría correspondiente es: 15 = soc.religion.christian\n",
            "\n",
            "Los 5 documentos más simlares son:\n",
            "\n",
            "Índice del documento: 6403, Valor de similitud coseno: 0.36828494892647484 y la categoría correspondiente es: 15 = soc.religion.christian\n",
            "\n",
            "Índice del documento: 458, Valor de similitud coseno: 0.2626655047127796 y la categoría correspondiente es: 15 = soc.religion.christian\n",
            "\n",
            "Índice del documento: 5098, Valor de similitud coseno: 0.23361638206785212 y la categoría correspondiente es: 15 = soc.religion.christian\n",
            "\n",
            "Índice del documento: 8714, Valor de similitud coseno: 0.22616091067922256 y la categoría correspondiente es: 15 = soc.religion.christian\n",
            "\n",
            "Índice del documento: 5577, Valor de similitud coseno: 0.2253352882427446 y la categoría correspondiente es: 15 = soc.religion.christian\n",
            "\n"
          ]
        }
      ],
      "source": [
        "# Similitud coseno para el segundo documento tomado al azar y el resto\n",
        "idx=random_indices[1]\n",
        "print(f\"Indice de documento: {idx}\")\n",
        "print(\"\")\n",
        "print(\"Contenido del documento:\")\n",
        "print(\"\")\n",
        "print(X_train[idx])\n",
        "print(\"\")\n",
        "print(f\"La categoría correspondiente es: {y_train[idx]} = {idx2class[y_train[idx]]}\\n\")\n",
        "\n",
        "# Similitud coseno con todos los documentos de train\n",
        "cossim = cosine_similarity(X_train_vec[idx], X_train_vec)[0]\n",
        "\n",
        "# 5 documentos más similares\n",
        "values_cossim=np.sort(cossim)[::-1] [1:6]\n",
        "doc_cossim=np.argsort(cossim)[::-1] [1:6]\n",
        "\n",
        "print(\"Los 5 documentos más simlares son:\")\n",
        "print(\"\")\n",
        "for doc_idx, sim_value in zip(doc_cossim, values_cossim):\n",
        "    print(f\"Índice del documento: {doc_idx}, Valor de similitud coseno: {sim_value} y la categoría correspondiente es: {y_train[doc_idx]} = {idx2class[y_train[doc_idx]]}\\n\")\n",
        "\n"
      ]
    },
    {
      "cell_type": "code",
      "execution_count": 19,
      "metadata": {
        "colab": {
          "base_uri": "https://localhost:8080/"
        },
        "id": "OvT51LzTRMbF",
        "outputId": "3bc9a766-8d0e-450f-b35f-388b4011c9c7"
      },
      "outputs": [
        {
          "name": "stdout",
          "output_type": "stream",
          "text": [
            "Índice de documento: 386\n",
            "\n",
            "Contenido del documento:\n",
            "\n",
            "Sci.E(E) netters:\n",
            "\n",
            "I am setting out to build and market a small electronic device that \n",
            "requires an LCD display.  All of the analog electronics are working \n",
            "fine, I have ordered a PIC ICE (not vice versa) since the PICs are so \n",
            "cheap and low-power, but I am having a devil of a time finding any \n",
            "LCD displays in the 6-8 digit range that are priced as low as I need.  I \n",
            "am looking for somthing in the range of $1 in quantities of about \n",
            "1000-10,000.\n",
            "\n",
            "Mainstream distributors like Almac cannot help me without a part \n",
            "number, or when they do look around for something in their line \n",
            "they find a $15 8-digit LCD.  Even Digikey's cheapest offering is $5 in \n",
            "quantity.\n",
            "\n",
            "I know LCD displays like this must exist because I see whole \n",
            "calculators for sale for $4.99, meaning the retailer probably buys it \n",
            "for $3.50 and the wholesaler probably gets it for $2.50 or so.  This \n",
            "$2.50 includes assembly labor, packaging, sales, transportation, \n",
            "import duties, the case and keyboard, the PC Board, the processor \n",
            "chip, the solar cell --- and the LCD.  The LCD can't cost much.\n",
            "\n",
            "If anyone could put me in touch with some manufacturers and/or \n",
            "distributors that handle such things I would be much obliged.\n",
            "\n",
            "-Joe Betts\n",
            "betts@netcom.com\n",
            "\n",
            "\n",
            "La categoría correspondiente es: 12 = sci.electronics\n",
            "\n",
            "Los 5 documentos más simlares son:\n",
            "\n",
            "Índice del documento: 6535, Valor de similitud coseno: 0.3024514972643824 y la categoría correspondiente es: 11 = sci.crypt\n",
            "\n",
            "Índice del documento: 6542, Valor de similitud coseno: 0.2490413043764482 y la categoría correspondiente es: 2 = comp.os.ms-windows.misc\n",
            "\n",
            "Índice del documento: 10515, Valor de similitud coseno: 0.2309260255891374 y la categoría correspondiente es: 11 = sci.crypt\n",
            "\n",
            "Índice del documento: 588, Valor de similitud coseno: 0.2270113943760115 y la categoría correspondiente es: 4 = comp.sys.mac.hardware\n",
            "\n",
            "Índice del documento: 9623, Valor de similitud coseno: 0.20064413279840962 y la categoría correspondiente es: 17 = talk.politics.mideast\n",
            "\n"
          ]
        }
      ],
      "source": [
        "# Similitud coseno para el tercer documento tomado al azar y el resto\n",
        "idx=random_indices[2]\n",
        "print(f\"Índice de documento: {idx}\")\n",
        "print(\"\")\n",
        "print(\"Contenido del documento:\")\n",
        "print(\"\")\n",
        "print(X_train[idx])\n",
        "print(\"\")\n",
        "print(f\"La categoría correspondiente es: {y_train[idx]} = {idx2class[y_train[idx]]}\\n\")\n",
        "\n",
        "# Similitud coseno con todos los documentos de train\n",
        "cossim = cosine_similarity(X_train_vec[idx], X_train_vec)[0]\n",
        "\n",
        "# 5 documentos mas similares\n",
        "values_cossim=np.sort(cossim)[::-1] [1:6]\n",
        "doc_cossim=np.argsort(cossim)[::-1] [1:6]\n",
        "\n",
        "print(\"Los 5 documentos más simlares son:\")\n",
        "print(\"\")\n",
        "for doc_idx, sim_value in zip(doc_cossim, values_cossim):\n",
        "    print(f\"Índice del documento: {doc_idx}, Valor de similitud coseno: {sim_value} y la categoría correspondiente es: {y_train[doc_idx]} = {idx2class[y_train[doc_idx]]}\\n\")\n",
        "\n"
      ]
    },
    {
      "cell_type": "code",
      "execution_count": 20,
      "metadata": {
        "colab": {
          "base_uri": "https://localhost:8080/"
        },
        "id": "K_DmOLLxRyKN",
        "outputId": "4ddaee27-b46e-45f2-b9ca-cb9cfdace967"
      },
      "outputs": [
        {
          "name": "stdout",
          "output_type": "stream",
          "text": [
            "Índice de documento: 10044\n",
            "\n",
            "Contenido documento\n",
            "\n",
            "\n",
            "It is a bit unfair to call blame the Clinton Administration alone...this\n",
            "initiative was underway under the Bush Administration...it is basically\n",
            "a bipartisan effort of the establishment Demopublicans and\n",
            "Republicrats...the same bipartisan effort that brought the S&L scandal,\n",
            "and BCCI, etc.\n",
            "\n",
            "La categoría correspondiente es: 18 = talk.politics.misc\n",
            "\n",
            "Los 5 documentos más simlares son:\n",
            "\n",
            "Índice del documento: 9882, Valor de similitud coseno: 0.22703970858777328 y la categoría correspondiente es: 11 = sci.crypt\n",
            "\n",
            "Índice del documento: 412, Valor de similitud coseno: 0.22586854039740267 y la categoría correspondiente es: 11 = sci.crypt\n",
            "\n",
            "Índice del documento: 3746, Valor de similitud coseno: 0.20070866258349215 y la categoría correspondiente es: 18 = talk.politics.misc\n",
            "\n",
            "Índice del documento: 1393, Valor de similitud coseno: 0.17942720526210715 y la categoría correspondiente es: 11 = sci.crypt\n",
            "\n",
            "Índice del documento: 1182, Valor de similitud coseno: 0.16847893401560457 y la categoría correspondiente es: 11 = sci.crypt\n",
            "\n"
          ]
        }
      ],
      "source": [
        "# Similitud coseno para el cuarto documento tomado al azar y el resto\n",
        "idx=random_indices[3]\n",
        "print(f\"Índice de documento: {idx}\")\n",
        "print(\"\")\n",
        "print(\"Contenido documento\")\n",
        "print(\"\")\n",
        "print(X_train[idx])\n",
        "print(\"\")\n",
        "print(f\"La categoría correspondiente es: {y_train[idx]} = {idx2class[y_train[idx]]}\\n\")\n",
        "\n",
        "# Similitud coseno con todos los documentos de train\n",
        "cossim = cosine_similarity(X_train_vec[idx], X_train_vec)[0]\n",
        "\n",
        "# 5 documentos mas similares\n",
        "values_cossim=np.sort(cossim)[::-1] [1:6]\n",
        "doc_cossim=np.argsort(cossim)[::-1] [1:6]\n",
        "\n",
        "print(\"Los 5 documentos más simlares son:\")\n",
        "print(\"\")\n",
        "for doc_idx, sim_value in zip(doc_cossim, values_cossim):\n",
        "    print(f\"Índice del documento: {doc_idx}, Valor de similitud coseno: {sim_value} y la categoría correspondiente es: {y_train[doc_idx]} = {idx2class[y_train[doc_idx]]}\\n\")\n",
        "\n"
      ]
    },
    {
      "cell_type": "code",
      "execution_count": 21,
      "metadata": {
        "colab": {
          "base_uri": "https://localhost:8080/"
        },
        "id": "t9drx31OTL9u",
        "outputId": "4a6bf66b-6eb5-4371-ec64-b9518ef39479"
      },
      "outputs": [
        {
          "name": "stdout",
          "output_type": "stream",
          "text": [
            "Índice de documento: 7325\n",
            "\n",
            "Contenido documento\n",
            "\n",
            "ALL I CAN SAY IS   \n",
            "\n",
            "\n",
            "\n",
            "\n",
            "        G O    T I G E R S!!!!!!\n",
            "\n",
            "\n",
            "\n",
            "\n",
            "\n",
            "La categoría correspondiente es: 9 = rec.sport.baseball\n",
            "\n",
            "Los 5 documentos más simlares son:\n",
            "\n",
            "Índice del documento: 3162, Valor de similitud coseno: 0.4269238527173849 y la categoría correspondiente es: 10 = rec.sport.hockey\n",
            "\n",
            "Índice del documento: 8478, Valor de similitud coseno: 0.26892906473662187 y la categoría correspondiente es: 17 = talk.politics.mideast\n",
            "\n",
            "Índice del documento: 7059, Valor de similitud coseno: 0.2577866280283646 y la categoría correspondiente es: 7 = rec.autos\n",
            "\n",
            "Índice del documento: 354, Valor de similitud coseno: 0.2540732297046181 y la categoría correspondiente es: 15 = soc.religion.christian\n",
            "\n",
            "Índice del documento: 5691, Valor de similitud coseno: 0.2395619843214295 y la categoría correspondiente es: 7 = rec.autos\n",
            "\n"
          ]
        }
      ],
      "source": [
        "# Similitud coseno para el quinto documento tomado al azar y el resto\n",
        "idx=random_indices[4]\n",
        "print(f\"Índice de documento: {idx}\")\n",
        "print(\"\")\n",
        "print(\"Contenido documento\")\n",
        "print(\"\")\n",
        "print(X_train[idx])\n",
        "print(\"\")\n",
        "print(f\"La categoría correspondiente es: {y_train[idx]} = {idx2class[y_train[idx]]}\\n\")\n",
        "\n",
        "# Similitud coseno con todos los documentos de train\n",
        "cossim = cosine_similarity(X_train_vec[idx], X_train_vec)[0]\n",
        "\n",
        "# 5 documentos mas similares\n",
        "values_cossim=np.sort(cossim)[::-1] [1:6]\n",
        "doc_cossim=np.argsort(cossim)[::-1] [1:6]\n",
        "\n",
        "print(\"Los 5 documentos más simlares son:\")\n",
        "print(\"\")\n",
        "for doc_idx, sim_value in zip(doc_cossim, values_cossim):\n",
        "    print(f\"Índice del documento: {doc_idx}, Valor de similitud coseno: {sim_value} y la categoría correspondiente es: {y_train[doc_idx]} = {idx2class[y_train[doc_idx]]}\\n\")\n",
        "\n"
      ]
    },
    {
      "cell_type": "markdown",
      "metadata": {
        "id": "IbaDLrVUUCUP"
      },
      "source": [
        "**Conclusión punto 1)**\n",
        "\n",
        "Al utilizar TfidfVectorizer(), creamos vectores esparsos de alta dimensionalidad, donde cada dimensión representa una palabra en el vocabulario. Al seleccionar 5 documentos aleatorios y compararlos con los 5 documentos que tienen la mayor similitud coseno, observamos que no siempre pertenecen a la misma categoría o subcategoría. En algunos casos, incluso difieren significativamente en categoría. Esto puede atribuirse a varios factores.\n",
        "\n",
        "Por un lado, la alta dimensionalidad puede incluir una gran cantidad de palabras irrelevantes o ruidosas que aumentan el valor de la similitud coseno sin tener una relación semántica significativa. Esto hace que documentos de diferentes categorías parezcan similares debido a términos comunes pero no informativos.\n",
        "\n",
        "Además, también puede existir diversidad temática dentro de las categorías. Es decir, algunas categorías pueden ser más diversas temáticamente que otras, lo que hace que documentos dentro de la misma categoría no sean necesariamente muy similares entre sí."
      ]
    },
    {
      "cell_type": "code",
      "execution_count": 22,
      "metadata": {
        "id": "B0-6qvJgZaMf"
      },
      "outputs": [],
      "source": [
        "# Inspeccionamos MultinomialNB() para ver parametros que toma por defecto\n",
        "\n",
        "#help(MultinomialNB())"
      ]
    },
    {
      "cell_type": "code",
      "execution_count": 23,
      "metadata": {
        "colab": {
          "base_uri": "https://localhost:8080/",
          "height": 74
        },
        "id": "XH9R0qjPbJyu",
        "outputId": "6cf82bd6-6bdd-433a-ab23-03dda5e976ee"
      },
      "outputs": [
        {
          "data": {
            "text/html": [
              "<style>#sk-container-id-1 {color: black;}#sk-container-id-1 pre{padding: 0;}#sk-container-id-1 div.sk-toggleable {background-color: white;}#sk-container-id-1 label.sk-toggleable__label {cursor: pointer;display: block;width: 100%;margin-bottom: 0;padding: 0.3em;box-sizing: border-box;text-align: center;}#sk-container-id-1 label.sk-toggleable__label-arrow:before {content: \"▸\";float: left;margin-right: 0.25em;color: #696969;}#sk-container-id-1 label.sk-toggleable__label-arrow:hover:before {color: black;}#sk-container-id-1 div.sk-estimator:hover label.sk-toggleable__label-arrow:before {color: black;}#sk-container-id-1 div.sk-toggleable__content {max-height: 0;max-width: 0;overflow: hidden;text-align: left;background-color: #f0f8ff;}#sk-container-id-1 div.sk-toggleable__content pre {margin: 0.2em;color: black;border-radius: 0.25em;background-color: #f0f8ff;}#sk-container-id-1 input.sk-toggleable__control:checked~div.sk-toggleable__content {max-height: 200px;max-width: 100%;overflow: auto;}#sk-container-id-1 input.sk-toggleable__control:checked~label.sk-toggleable__label-arrow:before {content: \"▾\";}#sk-container-id-1 div.sk-estimator input.sk-toggleable__control:checked~label.sk-toggleable__label {background-color: #d4ebff;}#sk-container-id-1 div.sk-label input.sk-toggleable__control:checked~label.sk-toggleable__label {background-color: #d4ebff;}#sk-container-id-1 input.sk-hidden--visually {border: 0;clip: rect(1px 1px 1px 1px);clip: rect(1px, 1px, 1px, 1px);height: 1px;margin: -1px;overflow: hidden;padding: 0;position: absolute;width: 1px;}#sk-container-id-1 div.sk-estimator {font-family: monospace;background-color: #f0f8ff;border: 1px dotted black;border-radius: 0.25em;box-sizing: border-box;margin-bottom: 0.5em;}#sk-container-id-1 div.sk-estimator:hover {background-color: #d4ebff;}#sk-container-id-1 div.sk-parallel-item::after {content: \"\";width: 100%;border-bottom: 1px solid gray;flex-grow: 1;}#sk-container-id-1 div.sk-label:hover label.sk-toggleable__label {background-color: #d4ebff;}#sk-container-id-1 div.sk-serial::before {content: \"\";position: absolute;border-left: 1px solid gray;box-sizing: border-box;top: 0;bottom: 0;left: 50%;z-index: 0;}#sk-container-id-1 div.sk-serial {display: flex;flex-direction: column;align-items: center;background-color: white;padding-right: 0.2em;padding-left: 0.2em;position: relative;}#sk-container-id-1 div.sk-item {position: relative;z-index: 1;}#sk-container-id-1 div.sk-parallel {display: flex;align-items: stretch;justify-content: center;background-color: white;position: relative;}#sk-container-id-1 div.sk-item::before, #sk-container-id-1 div.sk-parallel-item::before {content: \"\";position: absolute;border-left: 1px solid gray;box-sizing: border-box;top: 0;bottom: 0;left: 50%;z-index: -1;}#sk-container-id-1 div.sk-parallel-item {display: flex;flex-direction: column;z-index: 1;position: relative;background-color: white;}#sk-container-id-1 div.sk-parallel-item:first-child::after {align-self: flex-end;width: 50%;}#sk-container-id-1 div.sk-parallel-item:last-child::after {align-self: flex-start;width: 50%;}#sk-container-id-1 div.sk-parallel-item:only-child::after {width: 0;}#sk-container-id-1 div.sk-dashed-wrapped {border: 1px dashed gray;margin: 0 0.4em 0.5em 0.4em;box-sizing: border-box;padding-bottom: 0.4em;background-color: white;}#sk-container-id-1 div.sk-label label {font-family: monospace;font-weight: bold;display: inline-block;line-height: 1.2em;}#sk-container-id-1 div.sk-label-container {text-align: center;}#sk-container-id-1 div.sk-container {/* jupyter's `normalize.less` sets `[hidden] { display: none; }` but bootstrap.min.css set `[hidden] { display: none !important; }` so we also need the `!important` here to be able to override the default hidden behavior on the sphinx rendered scikit-learn.org. See: https://github.com/scikit-learn/scikit-learn/issues/21755 */display: inline-block !important;position: relative;}#sk-container-id-1 div.sk-text-repr-fallback {display: none;}</style><div id=\"sk-container-id-1\" class=\"sk-top-container\"><div class=\"sk-text-repr-fallback\"><pre>MultinomialNB()</pre><b>In a Jupyter environment, please rerun this cell to show the HTML representation or trust the notebook. <br />On GitHub, the HTML representation is unable to render, please try loading this page with nbviewer.org.</b></div><div class=\"sk-container\" hidden><div class=\"sk-item\"><div class=\"sk-estimator sk-toggleable\"><input class=\"sk-toggleable__control sk-hidden--visually\" id=\"sk-estimator-id-1\" type=\"checkbox\" checked><label for=\"sk-estimator-id-1\" class=\"sk-toggleable__label sk-toggleable__label-arrow\">MultinomialNB</label><div class=\"sk-toggleable__content\"><pre>MultinomialNB()</pre></div></div></div></div></div>"
            ],
            "text/plain": [
              "MultinomialNB()"
            ]
          },
          "execution_count": 23,
          "metadata": {},
          "output_type": "execute_result"
        }
      ],
      "source": [
        "# Inicializamos un clasificador bayesiano Moltinomial\n",
        "\n",
        "bayes=MultinomialNB()\n",
        "bayes.fit(X_train_vec, y_train)"
      ]
    },
    {
      "cell_type": "code",
      "execution_count": 24,
      "metadata": {
        "colab": {
          "base_uri": "https://localhost:8080/"
        },
        "id": "CpRtcCIvZKmh",
        "outputId": "36f89156-f1ee-4a71-cdb1-590495b08dce"
      },
      "outputs": [
        {
          "name": "stdout",
          "output_type": "stream",
          "text": [
            "f1-score: 0.5854345727938506 Accuracy: 0.6062134891131173\n"
          ]
        }
      ],
      "source": [
        "X_test_vec = tfidfvect.transform(X_test)\n",
        "y_pred =  bayes.predict(X_test_vec)\n",
        "print(f\"f1-score: {f1_score(y_test, y_pred, average='macro')} Accuracy: {accuracy_score(y_test,y_pred)}\")"
      ]
    },
    {
      "cell_type": "code",
      "execution_count": 25,
      "metadata": {
        "colab": {
          "base_uri": "https://localhost:8080/",
          "height": 74
        },
        "id": "RlCdyzMeWdFA",
        "outputId": "57b75b81-0f03-49ee-da51-71aaa8ee4223"
      },
      "outputs": [
        {
          "data": {
            "text/html": [
              "<style>#sk-container-id-2 {color: black;}#sk-container-id-2 pre{padding: 0;}#sk-container-id-2 div.sk-toggleable {background-color: white;}#sk-container-id-2 label.sk-toggleable__label {cursor: pointer;display: block;width: 100%;margin-bottom: 0;padding: 0.3em;box-sizing: border-box;text-align: center;}#sk-container-id-2 label.sk-toggleable__label-arrow:before {content: \"▸\";float: left;margin-right: 0.25em;color: #696969;}#sk-container-id-2 label.sk-toggleable__label-arrow:hover:before {color: black;}#sk-container-id-2 div.sk-estimator:hover label.sk-toggleable__label-arrow:before {color: black;}#sk-container-id-2 div.sk-toggleable__content {max-height: 0;max-width: 0;overflow: hidden;text-align: left;background-color: #f0f8ff;}#sk-container-id-2 div.sk-toggleable__content pre {margin: 0.2em;color: black;border-radius: 0.25em;background-color: #f0f8ff;}#sk-container-id-2 input.sk-toggleable__control:checked~div.sk-toggleable__content {max-height: 200px;max-width: 100%;overflow: auto;}#sk-container-id-2 input.sk-toggleable__control:checked~label.sk-toggleable__label-arrow:before {content: \"▾\";}#sk-container-id-2 div.sk-estimator input.sk-toggleable__control:checked~label.sk-toggleable__label {background-color: #d4ebff;}#sk-container-id-2 div.sk-label input.sk-toggleable__control:checked~label.sk-toggleable__label {background-color: #d4ebff;}#sk-container-id-2 input.sk-hidden--visually {border: 0;clip: rect(1px 1px 1px 1px);clip: rect(1px, 1px, 1px, 1px);height: 1px;margin: -1px;overflow: hidden;padding: 0;position: absolute;width: 1px;}#sk-container-id-2 div.sk-estimator {font-family: monospace;background-color: #f0f8ff;border: 1px dotted black;border-radius: 0.25em;box-sizing: border-box;margin-bottom: 0.5em;}#sk-container-id-2 div.sk-estimator:hover {background-color: #d4ebff;}#sk-container-id-2 div.sk-parallel-item::after {content: \"\";width: 100%;border-bottom: 1px solid gray;flex-grow: 1;}#sk-container-id-2 div.sk-label:hover label.sk-toggleable__label {background-color: #d4ebff;}#sk-container-id-2 div.sk-serial::before {content: \"\";position: absolute;border-left: 1px solid gray;box-sizing: border-box;top: 0;bottom: 0;left: 50%;z-index: 0;}#sk-container-id-2 div.sk-serial {display: flex;flex-direction: column;align-items: center;background-color: white;padding-right: 0.2em;padding-left: 0.2em;position: relative;}#sk-container-id-2 div.sk-item {position: relative;z-index: 1;}#sk-container-id-2 div.sk-parallel {display: flex;align-items: stretch;justify-content: center;background-color: white;position: relative;}#sk-container-id-2 div.sk-item::before, #sk-container-id-2 div.sk-parallel-item::before {content: \"\";position: absolute;border-left: 1px solid gray;box-sizing: border-box;top: 0;bottom: 0;left: 50%;z-index: -1;}#sk-container-id-2 div.sk-parallel-item {display: flex;flex-direction: column;z-index: 1;position: relative;background-color: white;}#sk-container-id-2 div.sk-parallel-item:first-child::after {align-self: flex-end;width: 50%;}#sk-container-id-2 div.sk-parallel-item:last-child::after {align-self: flex-start;width: 50%;}#sk-container-id-2 div.sk-parallel-item:only-child::after {width: 0;}#sk-container-id-2 div.sk-dashed-wrapped {border: 1px dashed gray;margin: 0 0.4em 0.5em 0.4em;box-sizing: border-box;padding-bottom: 0.4em;background-color: white;}#sk-container-id-2 div.sk-label label {font-family: monospace;font-weight: bold;display: inline-block;line-height: 1.2em;}#sk-container-id-2 div.sk-label-container {text-align: center;}#sk-container-id-2 div.sk-container {/* jupyter's `normalize.less` sets `[hidden] { display: none; }` but bootstrap.min.css set `[hidden] { display: none !important; }` so we also need the `!important` here to be able to override the default hidden behavior on the sphinx rendered scikit-learn.org. See: https://github.com/scikit-learn/scikit-learn/issues/21755 */display: inline-block !important;position: relative;}#sk-container-id-2 div.sk-text-repr-fallback {display: none;}</style><div id=\"sk-container-id-2\" class=\"sk-top-container\"><div class=\"sk-text-repr-fallback\"><pre>ComplementNB()</pre><b>In a Jupyter environment, please rerun this cell to show the HTML representation or trust the notebook. <br />On GitHub, the HTML representation is unable to render, please try loading this page with nbviewer.org.</b></div><div class=\"sk-container\" hidden><div class=\"sk-item\"><div class=\"sk-estimator sk-toggleable\"><input class=\"sk-toggleable__control sk-hidden--visually\" id=\"sk-estimator-id-2\" type=\"checkbox\" checked><label for=\"sk-estimator-id-2\" class=\"sk-toggleable__label sk-toggleable__label-arrow\">ComplementNB</label><div class=\"sk-toggleable__content\"><pre>ComplementNB()</pre></div></div></div></div></div>"
            ],
            "text/plain": [
              "ComplementNB()"
            ]
          },
          "execution_count": 25,
          "metadata": {},
          "output_type": "execute_result"
        }
      ],
      "source": [
        "# Inicializamos un clasificador Complement NB\n",
        "\n",
        "complement=ComplementNB()\n",
        "complement.fit(X_train_vec, y_train)"
      ]
    },
    {
      "cell_type": "code",
      "execution_count": 26,
      "metadata": {
        "colab": {
          "base_uri": "https://localhost:8080/"
        },
        "id": "TO-IW-uqbs-m",
        "outputId": "62abe733-415d-4e7b-d032-0266f6ac4a18"
      },
      "outputs": [
        {
          "name": "stdout",
          "output_type": "stream",
          "text": [
            "f1-score: 0.692953349950875 Accuracy: 0.7145512480084971\n"
          ]
        }
      ],
      "source": [
        "y_pred =  complement.predict(X_test_vec)\n",
        "print(f\"f1-score: {f1_score(y_test, y_pred, average='macro')} Accuracy: {accuracy_score(y_test,y_pred)}\")"
      ]
    },
    {
      "cell_type": "code",
      "execution_count": 27,
      "metadata": {
        "colab": {
          "base_uri": "https://localhost:8080/",
          "height": 74
        },
        "id": "XQZG_FMcb0oR",
        "outputId": "7ec6a71f-88d6-4148-db6b-c06030e40b0d"
      },
      "outputs": [
        {
          "data": {
            "text/html": [
              "<style>#sk-container-id-3 {color: black;}#sk-container-id-3 pre{padding: 0;}#sk-container-id-3 div.sk-toggleable {background-color: white;}#sk-container-id-3 label.sk-toggleable__label {cursor: pointer;display: block;width: 100%;margin-bottom: 0;padding: 0.3em;box-sizing: border-box;text-align: center;}#sk-container-id-3 label.sk-toggleable__label-arrow:before {content: \"▸\";float: left;margin-right: 0.25em;color: #696969;}#sk-container-id-3 label.sk-toggleable__label-arrow:hover:before {color: black;}#sk-container-id-3 div.sk-estimator:hover label.sk-toggleable__label-arrow:before {color: black;}#sk-container-id-3 div.sk-toggleable__content {max-height: 0;max-width: 0;overflow: hidden;text-align: left;background-color: #f0f8ff;}#sk-container-id-3 div.sk-toggleable__content pre {margin: 0.2em;color: black;border-radius: 0.25em;background-color: #f0f8ff;}#sk-container-id-3 input.sk-toggleable__control:checked~div.sk-toggleable__content {max-height: 200px;max-width: 100%;overflow: auto;}#sk-container-id-3 input.sk-toggleable__control:checked~label.sk-toggleable__label-arrow:before {content: \"▾\";}#sk-container-id-3 div.sk-estimator input.sk-toggleable__control:checked~label.sk-toggleable__label {background-color: #d4ebff;}#sk-container-id-3 div.sk-label input.sk-toggleable__control:checked~label.sk-toggleable__label {background-color: #d4ebff;}#sk-container-id-3 input.sk-hidden--visually {border: 0;clip: rect(1px 1px 1px 1px);clip: rect(1px, 1px, 1px, 1px);height: 1px;margin: -1px;overflow: hidden;padding: 0;position: absolute;width: 1px;}#sk-container-id-3 div.sk-estimator {font-family: monospace;background-color: #f0f8ff;border: 1px dotted black;border-radius: 0.25em;box-sizing: border-box;margin-bottom: 0.5em;}#sk-container-id-3 div.sk-estimator:hover {background-color: #d4ebff;}#sk-container-id-3 div.sk-parallel-item::after {content: \"\";width: 100%;border-bottom: 1px solid gray;flex-grow: 1;}#sk-container-id-3 div.sk-label:hover label.sk-toggleable__label {background-color: #d4ebff;}#sk-container-id-3 div.sk-serial::before {content: \"\";position: absolute;border-left: 1px solid gray;box-sizing: border-box;top: 0;bottom: 0;left: 50%;z-index: 0;}#sk-container-id-3 div.sk-serial {display: flex;flex-direction: column;align-items: center;background-color: white;padding-right: 0.2em;padding-left: 0.2em;position: relative;}#sk-container-id-3 div.sk-item {position: relative;z-index: 1;}#sk-container-id-3 div.sk-parallel {display: flex;align-items: stretch;justify-content: center;background-color: white;position: relative;}#sk-container-id-3 div.sk-item::before, #sk-container-id-3 div.sk-parallel-item::before {content: \"\";position: absolute;border-left: 1px solid gray;box-sizing: border-box;top: 0;bottom: 0;left: 50%;z-index: -1;}#sk-container-id-3 div.sk-parallel-item {display: flex;flex-direction: column;z-index: 1;position: relative;background-color: white;}#sk-container-id-3 div.sk-parallel-item:first-child::after {align-self: flex-end;width: 50%;}#sk-container-id-3 div.sk-parallel-item:last-child::after {align-self: flex-start;width: 50%;}#sk-container-id-3 div.sk-parallel-item:only-child::after {width: 0;}#sk-container-id-3 div.sk-dashed-wrapped {border: 1px dashed gray;margin: 0 0.4em 0.5em 0.4em;box-sizing: border-box;padding-bottom: 0.4em;background-color: white;}#sk-container-id-3 div.sk-label label {font-family: monospace;font-weight: bold;display: inline-block;line-height: 1.2em;}#sk-container-id-3 div.sk-label-container {text-align: center;}#sk-container-id-3 div.sk-container {/* jupyter's `normalize.less` sets `[hidden] { display: none; }` but bootstrap.min.css set `[hidden] { display: none !important; }` so we also need the `!important` here to be able to override the default hidden behavior on the sphinx rendered scikit-learn.org. See: https://github.com/scikit-learn/scikit-learn/issues/21755 */display: inline-block !important;position: relative;}#sk-container-id-3 div.sk-text-repr-fallback {display: none;}</style><div id=\"sk-container-id-3\" class=\"sk-top-container\"><div class=\"sk-text-repr-fallback\"><pre>BernoulliNB()</pre><b>In a Jupyter environment, please rerun this cell to show the HTML representation or trust the notebook. <br />On GitHub, the HTML representation is unable to render, please try loading this page with nbviewer.org.</b></div><div class=\"sk-container\" hidden><div class=\"sk-item\"><div class=\"sk-estimator sk-toggleable\"><input class=\"sk-toggleable__control sk-hidden--visually\" id=\"sk-estimator-id-3\" type=\"checkbox\" checked><label for=\"sk-estimator-id-3\" class=\"sk-toggleable__label sk-toggleable__label-arrow\">BernoulliNB</label><div class=\"sk-toggleable__content\"><pre>BernoulliNB()</pre></div></div></div></div></div>"
            ],
            "text/plain": [
              "BernoulliNB()"
            ]
          },
          "execution_count": 27,
          "metadata": {},
          "output_type": "execute_result"
        }
      ],
      "source": [
        "from sklearn.naive_bayes import BernoulliNB\n",
        "\n",
        "bernoulli=BernoulliNB()\n",
        "bernoulli.fit(X_train_vec, y_train)\n"
      ]
    },
    {
      "cell_type": "code",
      "execution_count": 28,
      "metadata": {
        "colab": {
          "base_uri": "https://localhost:8080/"
        },
        "id": "SQICnp8GdLTn",
        "outputId": "d82b5a3d-f417-4530-dd12-f0e0631dbd5d"
      },
      "outputs": [
        {
          "name": "stdout",
          "output_type": "stream",
          "text": [
            "f1-score: 0.42866948824103135 Accuracy: 0.4579129049389272\n"
          ]
        }
      ],
      "source": [
        "y_pred =  bernoulli.predict(X_test_vec)\n",
        "print(f\"f1-score: {f1_score(y_test, y_pred, average='macro')} Accuracy: {accuracy_score(y_test,y_pred)}\")"
      ]
    },
    {
      "cell_type": "markdown",
      "metadata": {
        "id": "nys4Gi8adtZo"
      },
      "source": [
        "**Conclusión 2):**\n",
        "\n",
        "Se puede observar que el mejor modelo para categorizar documentos es el ComplementNB() siendo sustancialmente superior a MultinomialNB() y BernoulliNB()."
      ]
    },
    {
      "cell_type": "code",
      "execution_count": 29,
      "metadata": {
        "id": "b8v8XPiYfVLo"
      },
      "outputs": [],
      "source": [
        "# Transponemos la matriz documento-término para obtener la matriz término-documento\n",
        "X_term_doc = X_train_vec.T"
      ]
    },
    {
      "cell_type": "code",
      "execution_count": 30,
      "metadata": {
        "colab": {
          "base_uri": "https://localhost:8080/"
        },
        "id": "MUFbHRSGhR6t",
        "outputId": "680e7605-0153-4be1-a698-cc9cc234c925"
      },
      "outputs": [
        {
          "name": "stdout",
          "output_type": "stream",
          "text": [
            "Mostrar las palabras encontradas en el vocabulario:\n",
            "sports\n",
            "game\n",
            "team\n",
            "player\n",
            "league\n"
          ]
        }
      ],
      "source": [
        "vocab = tfidfvect.get_feature_names_out()\n",
        "\n",
        "# Seleccionar 5 palabras aleatorias del vocabulario\n",
        "words = ['sports', 'game', 'team', 'player', 'league']\n",
        "\n",
        "# Verificamos que las palbras estan en el vocabulario\n",
        "words_in_vocab = [word for word in words if word in vocab]\n",
        "print(\"Mostrar las palabras encontradas en el vocabulario:\")\n",
        "for word in words_in_vocab:\n",
        "    print(word)"
      ]
    },
    {
      "cell_type": "code",
      "execution_count": 31,
      "metadata": {
        "colab": {
          "base_uri": "https://localhost:8080/"
        },
        "id": "zgS2ce5egFdG",
        "outputId": "f567e05c-d887-431d-c1da-3ee008e0f003"
      },
      "outputs": [
        {
          "name": "stdout",
          "output_type": "stream",
          "text": [
            "Palabra:sports\n",
            "  1. games - Similitud Coseno: 0.2116\n",
            "  2. espn - Similitud Coseno: 0.1935\n",
            "  3. hockey - Similitud Coseno: 0.1806\n",
            "  4. team - Similitud Coseno: 0.1786\n",
            "  5. scored - Similitud Coseno: 0.1707\n",
            "\n",
            "Palabra:game\n",
            "  1. kkeller - Similitud Coseno: 0.3595\n",
            "  2. quakers - Similitud Coseno: 0.3592\n",
            "  3. ivy - Similitud Coseno: 0.3558\n",
            "  4. keller - Similitud Coseno: 0.3551\n",
            "  5. champs - Similitud Coseno: 0.3514\n",
            "\n",
            "Palabra:team\n",
            "  1. grounder - Similitud Coseno: 0.2802\n",
            "  2. sac - Similitud Coseno: 0.2360\n",
            "  3. team - Similitud Coseno: 0.2254\n",
            "  4. credited - Similitud Coseno: 0.2178\n",
            "  5. players - Similitud Coseno: 0.2131\n",
            "\n",
            "Palabra:player\n",
            "  1. wip - Similitud Coseno: 0.3699\n",
            "  2. rockin - Similitud Coseno: 0.3599\n",
            "  3. pollute - Similitud Coseno: 0.3599\n",
            "  4. jockeys - Similitud Coseno: 0.3599\n",
            "  5. admittdly - Similitud Coseno: 0.2565\n",
            "\n",
            "Palabra:league\n",
            "  1. teams - Similitud Coseno: 0.2634\n",
            "  2. player - Similitud Coseno: 0.2254\n",
            "  3. nhl - Similitud Coseno: 0.2247\n",
            "  4. win - Similitud Coseno: 0.1957\n",
            "  5. players - Similitud Coseno: 0.1910\n",
            "\n"
          ]
        }
      ],
      "source": [
        "words_indices=np.where(np.isin(vocab, words))[0]\n",
        "\n",
        "similarity_scores = cosine_similarity(X_term_doc[words_indices], X_term_doc)\n",
        "\n",
        "for i, word in enumerate(words):\n",
        "    print(f\"Palabra:{word}\")\n",
        "\n",
        "    # Obtenemos los índices de las palabras más similares\n",
        "    top_similar_indices = np.argsort(similarity_scores[i])[::-1][1:6]\n",
        "\n",
        "    # Obtenemos las palabras más similares y sus puntajes de similitud\n",
        "    top_similar_words = [vocab[idx] for idx in top_similar_indices]\n",
        "    top_similar_scores = similarity_scores[i, top_similar_indices]\n",
        "\n",
        "    for j, similar_word in enumerate(top_similar_words):\n",
        "        print(f\"  {j+1}. {similar_word} - Similitud Coseno: {top_similar_scores[j]:.4f}\")\n",
        "    print()"
      ]
    },
    {
      "cell_type": "markdown",
      "metadata": {
        "id": "_XKRJEXJNsP3"
      },
      "source": [
        "**Conclusión 3):**\n",
        "\n",
        "Podemos observar que para varias de las palabras elegidas, la similitud coseno nos ha arrojado palabras que podríamos encontrar en contextos lingüísticos similares. Por ejemplo:\n",
        "\n",
        "* **league:** las 5 palabras más similares según la similitud coseno son `teams`, `player`, `nhl`, `win` y `player`.\n",
        "* **sports:** las 5 palabras más similares según la similitud coseno son `games`, `espn`, `hockey`, `team` y `scored`.\n",
        "\n",
        "Sin embargo, también obtuvimos algunos resultados menos coherentes o claros. Por ejemplo:\n",
        "\n",
        "* **game:** las 5 palabras más similares según la similitud coseno son `kkeller`, `quakers`, `ivy`, `keller` y `champs`.\n",
        "\n",
        "Estas discrepancias pueden surgir debido a la naturaleza de los contextos en los que las palabras aparecen y cómo estos contextos son capturados en la representación vectorial. Es importante recordar que la similitud coseno mide la co-ocurrencia en documentos, lo cual no siempre se alinea perfectamente con la similitud semántica que podríamos esperar intuitivamente.\n"
      ]
    }
  ],
  "metadata": {
    "colab": {
      "provenance": []
    },
    "kernelspec": {
      "display_name": "Python 3",
      "name": "python3"
    },
    "language_info": {
      "codemirror_mode": {
        "name": "ipython",
        "version": 3
      },
      "file_extension": ".py",
      "mimetype": "text/x-python",
      "name": "python",
      "nbconvert_exporter": "python",
      "pygments_lexer": "ipython3",
      "version": "3.11.9"
    }
  },
  "nbformat": 4,
  "nbformat_minor": 0
}
